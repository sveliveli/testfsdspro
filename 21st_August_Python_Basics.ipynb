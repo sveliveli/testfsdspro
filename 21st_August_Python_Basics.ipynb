{
 "cells": [
  {
   "cell_type": "code",
   "execution_count": null,
   "id": "e0bfc53d-3bc5-43c6-929e-b94e5f486c58",
   "metadata": {},
   "outputs": [],
   "source": [
    "# TOPIC: Python Basics Variable\n",
    "'''\n",
    "    1. Declare two variables, `x` and `y`, and assign them integer values.\n",
    "       Swap the values of these variables without using any temporary\n",
    "       variable.\n",
    "'''\n",
    "# Declared two variables\n",
    "x, y = 10, 20\n",
    "\n",
    "# Swapping Variables\n",
    "y, x = x, y\n",
    "\n",
    "# Printing the swapped result\n",
    "print(x)\n",
    "print(y)"
   ]
  },
  {
   "cell_type": "code",
   "execution_count": null,
   "id": "cfa63309-0dee-4126-a2a9-cf3d646c996e",
   "metadata": {},
   "outputs": [],
   "source": [
    "'''\n",
    "    2. Create a program that calculates the area of a rectangle. Take the\n",
    "       length and width as inputs from the user and store them in variables.\n",
    "       Calculate and display the area.\n",
    "'''\n",
    "\n",
    "# Take the user inputs for lenght and width and converting it to int\n",
    "l = int(input(\"Please enter length of the rectangle in cm's :\"))\n",
    "w = int(input(\"Please enter width of the rectangle in cm's :\"))\n",
    "\n",
    "# Area of rectange is Area = ength * width\n",
    "a = l * w\n",
    " \n",
    "# Printing the Area of rectangle in cm's\n",
    "print(\"The are of rectangle in cm's is : \", a , \"cms\")"
   ]
  },
  {
   "cell_type": "code",
   "execution_count": null,
   "id": "93479c83-ac77-437b-92b8-3e3ca95a61fe",
   "metadata": {},
   "outputs": [],
   "source": [
    "'''\n",
    "    3. Write a Python program that converts temperature from Celsius to\n",
    "       Fahrenheit. Take the temperature in Celsius as input, store it in a\n",
    "       variable, convert it to Fahrenheit, and display the result.\n",
    "\n",
    "'''\n",
    "\n",
    "# Take use input for temperature and converting it to int\n",
    "t = int(input(\"Please enter the temperature in Celsius :\"))\n",
    "\n",
    "# Formula for converting Celsius to Fahrenheit = (1.8 * celsius) + 32\n",
    "f = (1.8 * t) + 32\n",
    "\n",
    "# Printing the converted result\n",
    "print(\"Temperature in Fahrenheit :\", f)"
   ]
  },
  {
   "cell_type": "code",
   "execution_count": null,
   "id": "b211f435-c4e6-4645-9e73-ea554909412d",
   "metadata": {},
   "outputs": [],
   "source": [
    "# TOPIC: String Based Questions\n",
    "'''\n",
    "    1. Write a Python program that takes a string as input and prints the\n",
    "       length of the string.\n",
    "'''\n",
    "# Taking input from user to provide string\n",
    "s = input(\"Please enter a string to calculate lenght :\")\n",
    "\n",
    "# Calculating the length of the string\n",
    "string_lenght = len(s)\n",
    "\n",
    "# Printing the lenght of the give string\n",
    "print(\"The lenght of given string is :\", string_lenght)"
   ]
  },
  {
   "cell_type": "code",
   "execution_count": null,
   "id": "028ff271-0ad9-4de9-aefa-f1171c4bb356",
   "metadata": {},
   "outputs": [],
   "source": [
    "'''\n",
    "    2. Create a program that takes a sentence from the user and counts the\n",
    "       number of vowels (a, e, i, o, u) in the string.\n",
    "'''\n",
    "\n",
    "# Taking inout from user to provide sentence\n",
    "s = input(\"Please enter the sentence :\")\n",
    "\n",
    "# Converting the given string to lower case\n",
    "new_s = s.lower()\n",
    "\n",
    "# setting the vowel counts\n",
    "a_count = s.count('a')\n",
    "e_count = s.count('e')\n",
    "i_count = s.count('i')\n",
    "o_count = s.count('o')\n",
    "u_count = s.count('u')\n",
    "\n",
    "# Counting all the vowel characters counts\n",
    "vowel_count = a_count + e_count + i_count + o_count + u_count\n",
    "\n",
    "# Printing the count of vowels.\n",
    "print(\"Count of vowels in a give  sentence is :\", vowel_count)\n"
   ]
  },
  {
   "cell_type": "code",
   "execution_count": null,
   "id": "51ad1569-2a90-4293-8b4a-d1253cc93988",
   "metadata": {},
   "outputs": [],
   "source": [
    "'''\n",
    "3. Given a string, reverse the order of characters using string slicing and\n",
    "print the reversed string.\n",
    "'''\n",
    "\n",
    "# Take the input from user to provide string to revers\n",
    "s = input(\"Please enter a string to reverse :\")\n",
    "\n",
    "# Reversing the string\n",
    "reverse_string = s[::-1]\n",
    "\n",
    "# Printing the reversed string\n",
    "print(\"Reversed string is :\",reverse_string )"
   ]
  },
  {
   "cell_type": "code",
   "execution_count": null,
   "id": "fa633945-be4f-43ff-ae5f-b00bb3a167a8",
   "metadata": {},
   "outputs": [],
   "source": [
    "'''\n",
    "    4. Write a program that takes a string as input and checks if it is a\n",
    "       palindrome (reads the same forwards and backwards).\n",
    "'''\n",
    "# Take the input from user\n",
    "s = input(\"Please enter a string :\")\n",
    "\n",
    "# Reversing the given string\n",
    "reverse_string = s[::-1]\n",
    "\n",
    "# checking if the give string and reverse sting are same\n",
    "if s == reverse_string:\n",
    "    print(\"The given string is Palindrome\")\n",
    "else:\n",
    "    print(\"The give string is not Palindrome\")\n",
    "\n"
   ]
  },
  {
   "cell_type": "code",
   "execution_count": null,
   "id": "b63e4d6c-763a-42f8-b5cf-f431cfd89165",
   "metadata": {},
   "outputs": [],
   "source": [
    "'''\n",
    "    5. Create a program that takes a string as input and removes all the\n",
    "       spaces from it. Print the modified string without spaces.\n",
    "'''\n",
    "\n",
    "# Take the input from user\n",
    "s = input(\"Please enter a string :\")\n",
    "\n",
    "# Replcae spaces and store the result to new variable\n",
    "new_s = s.replace(\" \",\"\")\n",
    "\n",
    "# Printing the modified string without spaces.\n",
    "print(new_s)"
   ]
  }
 ],
 "metadata": {
  "kernelspec": {
   "display_name": "Python 3 (ipykernel)",
   "language": "python",
   "name": "python3"
  },
  "language_info": {
   "codemirror_mode": {
    "name": "ipython",
    "version": 3
   },
   "file_extension": ".py",
   "mimetype": "text/x-python",
   "name": "python",
   "nbconvert_exporter": "python",
   "pygments_lexer": "ipython3",
   "version": "3.10.8"
  }
 },
 "nbformat": 4,
 "nbformat_minor": 5
}
